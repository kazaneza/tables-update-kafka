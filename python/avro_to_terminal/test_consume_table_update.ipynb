{
 "cells": [
  {
   "cell_type": "code",
   "execution_count": null,
   "metadata": {},
   "outputs": [],
   "source": [
    "from kafka import KafkaConsumer\n",
    "\n",
    "# Kafka bootstrap server address\n",
    "bootstrap_servers = '10.24.36.25:35002'\n",
    "\n",
    "# Kafka topic you want to consume\n",
    "topic_name = 'table-update'\n",
    "\n",
    "# Create a Kafka consumer\n",
    "consumer = KafkaConsumer(\n",
    "    topic_name,\n",
    "    bootstrap_servers=bootstrap_servers,\n",
    "    auto_offset_reset='earliest',  # start from the earliest message\n",
    "    group_id='my-group',  # use a group ID for consumer tracking\n",
    "    value_deserializer=lambda x: x.decode('utf-8')  # decode messages from Kafka\n",
    ")\n",
    "\n",
    "# Consume messages\n",
    "try:\n",
    "    message_count = 0\n",
    "    for message in consumer:\n",
    "        print(f\"Received message: {message.value}\")\n",
    "        message_count += 1\n",
    "\n",
    "        # Break after receiving 10 messages\n",
    "        if message_count >= 10:\n",
    "            break\n",
    "finally:\n",
    "    consumer.close()\n",
    "\n",
    "print(\"Consumed 10 messages, exiting...\")\n"
   ]
  }
 ],
 "metadata": {
  "language_info": {
   "name": "python"
  }
 },
 "nbformat": 4,
 "nbformat_minor": 2
}
