from confluent_kafka import Consumer, KafkaException
import sys
import json

def create_consumer(config):
    """
    Create a Kafka consumer with the given configuration.
    """
    try:
        consumer = Consumer(config)
        print("Consumer created successfully")
        return consumer
    except KafkaException as e:
        print(f"Failed to create consumer: {e}")
        sys.exit(1)

def subscribe_consumer(consumer, topics):
    """
    Subscribe the consumer to the given topics.
    """
    try:
        consumer.subscribe(topics)
        print(f"Subscribed to topics: {topics}")
    except KafkaException as e:
        print(f"Failed to subscribe to topics {topics}: {e}")
        sys.exit(1)

def process_message(msg):
    """
    Process and save the message to a JSON file.
    """
    try:
        # Convert message to a Python dictionary
        message_data = json.loads(msg.value().decode('utf-8'))

        # Append the message to the JSON file
        with open("kafka_messages.json", "a") as file:
            json.dump(message_data, file)
            file.write("\n")  # Add newline for separation

    except json.JSONDecodeError:
        print("Error: Received message is not a valid JSON")

def poll_messages(consumer):
    """
    Poll messages continuously from the Kafka topic, but only process 10 messages.
    """
    message_count = 0  # Initialize the message counter

    try:
        while message_count < 10:  # Limit to 10 messages
            msg = consumer.poll(timeout=1.0)
            if msg is None:
                continue
            if msg.error():
                print(f"Consumer error: {msg.error()}")
                continue

            print(f"Received message: {msg.value().decode('utf-8')}")
            process_message(msg)
            message_count += 1  # Increment the counter for each message processed

    except KeyboardInterrupt:
        print("\nConsumer closed.")
    finally:
        consumer.close()

def main():
    # Kafka configuration
    config = {
        'bootstrap.servers': 'localhost:9092', # Replace with your Kafka broker addresses
        'group.id': 'my-consumer-group', # Replace with your consumer group
        'auto.offset.reset': 'earliest' # Start from the earliest message
    }

    # Kafka topics to subscribe to
    topics = ['my_topic'] # Replace with your Kafka topics

    # Create Kafka consumer
    consumer = create_consumer(config)

    # Subscribe to topics
    subscribe_consumer(consumer, topics)

    # Poll messages
    poll_messages(consumer)

if __name__ == "__main__":
    main()



    def poll_messages(consumer):
    """
    Poll messages continuously from the Kafka topic, but only process 10 messages.
    """
    message_count = 0  # Initialize the message counter

    try:
        while message_count < 10:
            print("Polling for messages...")
            msg = consumer.poll(timeout=1.0)
            if msg is None:
                print("No message received.")
                continue
            if msg.error():
                print(f"Consumer error: {msg.error()}")
                continue

            print(f"Received message: {msg.value().decode('utf-8')}")
            process_message(msg)
            message_count += 1
    except KeyboardInterrupt:
        print("\nConsumer closed.")
    finally:
        consumer.close()









        # ... [rest of the script remains the same]

def process_message(msg):
    print("Processing message")  # New print statement for debugging
    try: 
        message_data = json.loads(msg.value().decode('utf-8'))
        with open("Kafka_messages.json", "a") as file:
            json.dump(message_data, file)
            file.write("\n") 
    except json.JSONDecodeError:
        print("Error: Received message is not a valid JSON")

def poll_messages(consumer):
    message_count = 0
    try:
        while message_count < 10:
            print("Polling for message...")  # New print statement for debugging
            msg = consumer.poll(timeout=1.0)
            if msg is None:
                print("No message received.")  # New print statement for debugging
                continue
            if msg.error():
                print(f"Consumer error: {msg.error()}")
                continue

            print(f"Received message: {msg.value().decode('utf-8')}")
            process_message(msg)
            message_count += 1
    except KeyboardInterrupt:
        print("\nConsumer closed.")
    finally:
        consumer.close()

# ... [rest of the script remains the same]














import logging
from confluent_kafka import Consumer, KafkaException

# Configure Python logging
logging.basicConfig(level=logging.DEBUG, filename='kafka_consumer.log', filemode='w',
                    format='%(asctime)s %(levelname)s %(message)s')

def create_consumer(config):
    try:
        consumer = Consumer(config)
        logging.info("Consumer created successfully")
        return consumer
    except KafkaException as e:
        logging.error(f"Failed to create consumer: {e}")
        raise

# ... rest of your script ...

def main():
    config = {
        'bootstrap.servers': '10.24.36.25:35002',
        'group.id': 'tables-update',
        'auto.offset.reset': 'earliest',
        'debug': 'all'  # Enable Kafka client debugging
    }
    # ... rest of your main function ...

if __name__ == "__main__":
    main()

