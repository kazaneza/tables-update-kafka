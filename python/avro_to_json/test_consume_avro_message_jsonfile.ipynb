{
 "cells": [
  {
   "cell_type": "code",
   "execution_count": null,
   "metadata": {},
   "outputs": [],
   "source": [
    "import json\n",
    "from confluent_kafka import DeserializingConsumer\n",
    "from confluent_kafka.serialization import StringDeserializer, SerializationContext, MessageField\n",
    "from confluent_kafka.schema_registry import SchemaRegistryClient\n",
    "from confluent_kafka.schema_registry.avro import AvroDeserializer\n",
    "\n",
    "def main():\n",
    "    schema_registry_conf = {'url': 'http://10.24.36.25:35003'}\n",
    "    schema_registry_client = SchemaRegistryClient(schema_registry_conf)\n",
    "\n",
    "    value_deserializer = AvroDeserializer(schema_registry_client=schema_registry_client)\n",
    "\n",
    "    consumer_config = {\n",
    "        'bootstrap.servers': '10.24.36.25:35002',\n",
    "        'group.id': 'table-update',\n",
    "        'auto.offset.reset': 'earliest',\n",
    "        'key.deserializer': StringDeserializer('utf_8'),\n",
    "        'value.deserializer': value_deserializer\n",
    "    }\n",
    "\n",
    "    consumer = DeserializingConsumer(consumer_config)\n",
    "    consumer.subscribe(['table-update'])\n",
    "\n",
    "    # Open a JSON file for writing\n",
    "    with open('kafka_messages.json', 'w') as file:\n",
    "        message_count = 0\n",
    "        while message_count < 3:\n",
    "            msg = consumer.poll(1.0)\n",
    "            if msg is None:\n",
    "                continue\n",
    "            if msg.error():\n",
    "                print(\"Consumer error: {}\".format(msg.error()))\n",
    "                continue\n",
    "\n",
    "            # Convert message to JSON\n",
    "            message_json = {\n",
    "                \"key\": msg.key(),\n",
    "                \"value\": msg.value(),\n",
    "                \"topic\": msg.topic(),\n",
    "                \"partition\": msg.partition(),\n",
    "                \"offset\": msg.offset()\n",
    "            }\n",
    "            file.write(json.dumps(message_json, indent=4, default=str) + \"\\n\")\n",
    "\n",
    "            message_count += 1\n",
    "\n",
    "    consumer.close()\n",
    "\n",
    "if __name__ == '__main__':\n",
    "    main()\n"
   ]
  }
 ],
 "metadata": {
  "language_info": {
   "name": "python"
  }
 },
 "nbformat": 4,
 "nbformat_minor": 2
}
