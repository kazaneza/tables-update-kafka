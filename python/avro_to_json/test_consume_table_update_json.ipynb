{
 "cells": [
  {
   "cell_type": "code",
   "execution_count": null,
   "metadata": {},
   "outputs": [],
   "source": [
    "from kafka import KafkaConsumer\n",
    "import json\n",
    "import base64\n",
    "\n",
    "# Kafka bootstrap server address and topic name\n",
    "bootstrap_servers = '10.24.36.25:35002'\n",
    "topic_name = 'table-update'\n",
    "\n",
    "# Create a kafka consumer\n",
    "consumer = KafkaConsumer(\n",
    "    topic_name,\n",
    "    bootstrap_servers=bootstrap_servers,\n",
    "    auto_offset_reset='earliest',\n",
    "    group_id='table-update'\n",
    ")\n",
    "\n",
    "# File to store JSON data\n",
    "output_file = 'kafka_messages.json'\n",
    "\n",
    "try:\n",
    "    message_count = 0\n",
    "    messages = []\n",
    "    for message in consumer:\n",
    "        # Convert message to base64 string\n",
    "        base64_message = base64.b64encode(message.value).decode('utf-8')\n",
    "        print(f\"Received message: {base64_message}\")\n",
    "        messages.append(base64_message)\n",
    "        message_count += 1\n",
    "\n",
    "        if message_count >= 3:\n",
    "            break\n",
    "finally:\n",
    "    consumer.close()\n",
    "\n",
    "# Write messages to a JSON file\n",
    "with open(output_file, 'w') as file:\n",
    "    json.dump(messages, file, indent=4)\n",
    "\n",
    "print(f\"Consumed {message_count} messages and written to {output_file}\")\n"
   ]
  }
 ],
 "metadata": {
  "language_info": {
   "name": "python"
  }
 },
 "nbformat": 4,
 "nbformat_minor": 2
}
