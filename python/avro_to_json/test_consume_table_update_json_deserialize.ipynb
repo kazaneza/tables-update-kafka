{
 "cells": [
  {
   "cell_type": "code",
   "execution_count": null,
   "metadata": {},
   "outputs": [],
   "source": [
    "from confluent_kafka.avro import AvroConsumer\n",
    "from confluent_kafka.avro.serializer import SerializerError\n",
    "import json\n",
    "\n",
    "# Kafka configuration\n",
    "bootstrap_servers = '10.24.36.25:35002'\n",
    "schema_registry_url = 'http://10.24.36.25:35003'\n",
    "topic_name = 'table-update'\n",
    "\n",
    "# Create an AvroConsumer\n",
    "consumer = AvroConsumer({\n",
    "    'bootstrap.servers': bootstrap_servers,\n",
    "    'group.id': 'table-update',\n",
    "    'schema.registry.url': schema_registry_url,\n",
    "    'auto.offset.reset': 'earliest'\n",
    "})\n",
    "\n",
    "consumer.subscribe([topic_name])\n",
    "\n",
    "# File to store JSON data\n",
    "output_file = 'kafka_messages.json'\n",
    "messages = []\n",
    "\n",
    "try:\n",
    "    message_count = 0\n",
    "    while message_count < 3:\n",
    "        try:\n",
    "            msg = consumer.poll(1.0)\n",
    "            if msg is None:\n",
    "                continue\n",
    "            if msg.error():\n",
    "                print(f\"Consumer error: {msg.error()}\")\n",
    "                continue\n",
    "\n",
    "            print(f\"Received message: {msg.value()}\")\n",
    "            messages.append(msg.value())\n",
    "            message_count += 1\n",
    "\n",
    "        except SerializerError as e:\n",
    "            print(f\"Message deserialization failed: {e}\")\n",
    "            break\n",
    "finally:\n",
    "    consumer.close()\n",
    "\n",
    "# Write messages to a JSON file\n",
    "with open(output_file, 'w') as file:\n",
    "    json.dump(messages, file, indent=4)\n",
    "\n",
    "print(f\"Consumed {message_count} messages and written to {output_file}\")\n"
   ]
  }
 ],
 "metadata": {
  "language_info": {
   "name": "python"
  }
 },
 "nbformat": 4,
 "nbformat_minor": 2
}
