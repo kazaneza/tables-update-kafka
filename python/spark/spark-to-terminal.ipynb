{
 "cells": [
  {
   "cell_type": "code",
   "execution_count": null,
   "metadata": {},
   "outputs": [],
   "source": [
    "from pyspark.sql import SparkSession\n",
    "\n",
    "def test_spark_connection():\n",
    "    try:\n",
    "        # Create a Spark session\n",
    "        spark = SparkSession \\\n",
    "            .builder \\\n",
    "            .appName(\"Spark Connection Test\") \\\n",
    "            .master(\"spark://master.datahub.analytics.bk.rw:1501\") \\\n",
    "            .getOrCreate()\n",
    "\n",
    "        # Create a simple RDD\n",
    "        nums = spark.sparkContext.parallelize([1, 2, 3, 4, 5])\n",
    "\n",
    "        # Perform a simple action\n",
    "        count = nums.count()\n",
    "        print(f\"Count of elements in RDD: {count}\")\n",
    "\n",
    "        # Stop the Spark session\n",
    "        spark.stop()\n",
    "\n",
    "        return \"Connection successful!\"\n",
    "\n",
    "    except Exception as e:\n",
    "        return f\"Connection failed: {e}\"\n",
    "\n",
    "# Run the test function\n",
    "result = test_spark_connection()\n",
    "print(result)\n"
   ]
  }
 ],
 "metadata": {
  "language_info": {
   "name": "python"
  }
 },
 "nbformat": 4,
 "nbformat_minor": 2
}
