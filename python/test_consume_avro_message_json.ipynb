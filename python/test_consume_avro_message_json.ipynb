{
 "cells": [
  {
   "cell_type": "code",
   "execution_count": 1,
   "metadata": {},
   "outputs": [
    {
     "ename": "ModuleNotFoundError",
     "evalue": "No module named 'confluent_kafka'",
     "output_type": "error",
     "traceback": [
      "\u001b[1;31m---------------------------------------------------------------------------\u001b[0m",
      "\u001b[1;31mModuleNotFoundError\u001b[0m                       Traceback (most recent call last)",
      "Cell \u001b[1;32mIn[1], line 2\u001b[0m\n\u001b[0;32m      1\u001b[0m \u001b[38;5;28;01mimport\u001b[39;00m \u001b[38;5;21;01mjson\u001b[39;00m\n\u001b[1;32m----> 2\u001b[0m \u001b[38;5;28;01mfrom\u001b[39;00m \u001b[38;5;21;01mconfluent_kafka\u001b[39;00m \u001b[38;5;28;01mimport\u001b[39;00m DeserializingConsumer\n\u001b[0;32m      3\u001b[0m \u001b[38;5;28;01mfrom\u001b[39;00m \u001b[38;5;21;01mconfluent_kafka\u001b[39;00m\u001b[38;5;21;01m.\u001b[39;00m\u001b[38;5;21;01mserialization\u001b[39;00m \u001b[38;5;28;01mimport\u001b[39;00m StringDeserializer, SerializationContext, MessageField\n\u001b[0;32m      4\u001b[0m \u001b[38;5;28;01mfrom\u001b[39;00m \u001b[38;5;21;01mconfluent_kafka\u001b[39;00m\u001b[38;5;21;01m.\u001b[39;00m\u001b[38;5;21;01mschema_registry\u001b[39;00m \u001b[38;5;28;01mimport\u001b[39;00m SchemaRegistryClient\n",
      "\u001b[1;31mModuleNotFoundError\u001b[0m: No module named 'confluent_kafka'"
     ]
    }
   ],
   "source": [
    "import json\n",
    "from confluent_kafka import DeserializingConsumer\n",
    "from confluent_kafka.serialization import StringDeserializer, SerializationContext, MessageField\n",
    "from confluent_kafka.schema_registry import SchemaRegistryClient\n",
    "from confluent_kafka.schema_registry.avro import AvroDeserializer\n",
    "\n",
    "def main():\n",
    "    schema_registry_conf = {'url': 'http://10.24.36.25:35003'}\n",
    "    schema_registry_client = SchemaRegistryClient(schema_registry_conf)\n",
    "\n",
    "    value_deserializer = AvroDeserializer(schema_registry_client=schema_registry_client)\n",
    "\n",
    "    consumer_config = {\n",
    "        'bootstrap.servers': '10.24.36.25:35002',\n",
    "        'group.id': 'table-update',\n",
    "        'auto.offset.reset': 'earliest',\n",
    "        'key.deserializer': StringDeserializer('utf_8'),\n",
    "        'value.deserializer': value_deserializer\n",
    "    }\n",
    "\n",
    "    consumer = DeserializingConsumer(consumer_config)\n",
    "    consumer.subscribe(['table-update'])\n",
    "\n",
    "    try:\n",
    "        message_count = 0\n",
    "        while message_count < 3:\n",
    "            msg = consumer.poll(1.0)\n",
    "            if msg is None:\n",
    "                continue\n",
    "            if msg.error():\n",
    "                print(\"Consumer error: {}\".format(msg.error()))\n",
    "                continue\n",
    "\n",
    "            # Convert message to JSON\n",
    "            message_json = {\n",
    "                \"key\": msg.key(),\n",
    "                \"value\": msg.value(),\n",
    "                \"topic\": msg.topic(),\n",
    "                \"partition\": msg.partition(),\n",
    "                \"offset\": msg.offset()\n",
    "            }\n",
    "            print(json.dumps(message_json, indent=4, default=str))\n",
    "\n",
    "            message_count += 1\n",
    "    except KeyboardInterrupt:\n",
    "        pass\n",
    "    finally:\n",
    "        consumer.close()\n",
    "\n",
    "if __name__ == '__main__':\n",
    "    main()\n"
   ]
  },
  {
   "cell_type": "code",
   "execution_count": 3,
   "metadata": {},
   "outputs": [
    {
     "name": "stdout",
     "output_type": "stream",
     "text": [
      "Defaulting to user installation because normal site-packages is not writeable\n",
      "Requirement already satisfied: confluent-kafka in c:\\users\\gkazeneza\\appdata\\roaming\\python\\python311\\site-packages (2.3.0)\n",
      "Note: you may need to restart the kernel to use updated packages.\n"
     ]
    }
   ],
   "source": [
    "pip install confluent-kafka"
   ]
  }
 ],
 "metadata": {
  "kernelspec": {
   "display_name": "Python 3 (ipykernel)",
   "language": "python",
   "name": "python3"
  },
  "language_info": {
   "codemirror_mode": {
    "name": "ipython",
    "version": 3
   },
   "file_extension": ".py",
   "mimetype": "text/x-python",
   "name": "python",
   "nbconvert_exporter": "python",
   "pygments_lexer": "ipython3",
   "version": "3.11.5"
  }
 },
 "nbformat": 4,
 "nbformat_minor": 2
}
