{
 "cells": [
  {
   "cell_type": "code",
   "execution_count": null,
   "metadata": {},
   "outputs": [],
   "source": [
    "from kafka_consumer import setup_kafka_consumer, poll_message\n",
    "from db_operations import get_db_connection, execute_insert_query\n",
    "from message_handler import process_message\n",
    "\n",
    "def main():\n",
    "    consumer = setup_kafka_consumer()\n",
    "    cnxn = get_db_connection()\n",
    "    cursor = cnxn.cursor()\n",
    "\n",
    "    try:\n",
    "        while True:\n",
    "            msg = poll_message(consumer)\n",
    "            if msg is None or msg.error():\n",
    "                continue\n",
    "\n",
    "            json_data, processing_time, entity_name, entity_id = process_message(msg)\n",
    "\n",
    "            insert_query = \"\"\"\n",
    "            INSERT INTO KafkaMessages (JsonData, ProcessingTime, EntityName, EntityId) \n",
    "            VALUES (?, ?, ?, ?)\n",
    "            \"\"\"\n",
    "            execute_insert_query(cursor, insert_query, json_data, processing_time, entity_name, entity_id)\n",
    "            cnxn.commit()\n",
    "\n",
    "    except KeyboardInterrupt:\n",
    "        pass\n",
    "    except Exception as e:\n",
    "        print(f\"An error occurred: {e}\")\n",
    "    finally:\n",
    "        consumer.close()\n",
    "        cursor.close()\n",
    "        cnxn.close()\n",
    "\n",
    "if __name__ == '__main__':\n",
    "    main()"
   ]
  }
 ],
 "metadata": {
  "language_info": {
   "name": "python"
  }
 },
 "nbformat": 4,
 "nbformat_minor": 2
}
