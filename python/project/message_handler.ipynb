{
 "cells": [
  {
   "cell_type": "code",
   "execution_count": null,
   "metadata": {},
   "outputs": [],
   "source": [
    "import json\n",
    "\n",
    "def get_value_from_nested_json(data, key):\n",
    "\n",
    "    # Recursively fetch value from nested JSON\n",
    "    keys = key.split('.')\n",
    "    for i, k in enumerate(keys):\n",
    "        if isinstance(data, dict) and k in data:\n",
    "            data = data[k]\n",
    "        elif isinstance(data, list) and i < len(keys) - 1:\n",
    "            # Extract a list of values for the next key in all array elements\n",
    "            next_key = keys[i + 1]\n",
    "            return [element[next_key] for element in data if next_key in element]\n",
    "        else:\n",
    "            return None\n",
    "    return data\n",
    "\n",
    "def process_message(msg, config):\n",
    "\n",
    "    # Process the message and extract necessary fields based on the config.\n",
    "    message_fields = msg.value()  # Extract all fields from the message\n",
    "    entity_name = message_fields.get('entityName')\n",
    "\n",
    "    if entity_name not in config:\n",
    "        return None, None # No error handling yet\n",
    "    \n",
    "    selected_fields = config[entity_name][\"columns\"]\n",
    "    extracted_fields = {}\n",
    "\n",
    "    for field in selected_fields:\n",
    "        extracted_value = get_value_from_nested_json(message_fields, field)\n",
    "        if extracted_value is not None:\n",
    "            if isinstance(extracted_value, list):\n",
    "                # Convert list to JSON string for database insertion\n",
    "                extracted_fields[field] = json.dumps(extracted_value)\n",
    "            else:\n",
    "                extracted_fields[field] = extracted_value\n",
    "\n",
    "    return extracted_fields.get('message_json', None), extracted_fields\n",
    "\n",
    "# Load config\n",
    "with open('config.json', 'r') as file:\n",
    "    config = json.load(file)"
   ]
  }
 ],
 "metadata": {
  "language_info": {
   "name": "python"
  }
 },
 "nbformat": 4,
 "nbformat_minor": 2
}
