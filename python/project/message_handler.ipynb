{
 "cells": [
  {
   "cell_type": "code",
   "execution_count": null,
   "metadata": {},
   "outputs": [],
   "source": [
    "import json\n",
    "\n",
    "def get_value_from_nested_json(data, key):\n",
    "    \n",
    "    # Recursively fetch value from nested JSON.\n",
    "\n",
    "    keys = key.split('.')\n",
    "    for k in keys:\n",
    "        if isinstance(data, dict) and k in data:\n",
    "            data = data[k]\n",
    "        else:\n",
    "            return None\n",
    "    return data\n",
    "\n",
    "def process_message(msg, config):\n",
    "\n",
    "    # Process the message and extract necessary fields based on the config.\n",
    "\n",
    "    message_fields = msg.value() # Extract all fields from the message\n",
    "    entity_name = message_fields.get('entityName')\n",
    "\n",
    "    if entity_name not in config:\n",
    "        return None, None # no error handle yet\n",
    "    \n",
    "    selected_fields = config[entity_name][\"columns\"]\n",
    "    extracted_fields = {}\n",
    "\n",
    "    for field in selected_fields:\n",
    "        if field == 'message_json':\n",
    "            extracted_fields[field] = json.dumps(message_fields)\n",
    "        else:\n",
    "            extracted_value = get_value_from_nested_json(message_fields, field)\n",
    "            if extracted_value is not None:\n",
    "                extracted_fields[field] = extracted_value\n",
    "\n",
    "    return extracted_fields['message_json'], extracted_fields\n",
    "\n",
    "# Load config\n",
    "with open('config.json', 'r') as file:\n",
    "    config = json.load(file)           "
   ]
  }
 ],
 "metadata": {
  "language_info": {
   "name": "python"
  }
 },
 "nbformat": 4,
 "nbformat_minor": 2
}
