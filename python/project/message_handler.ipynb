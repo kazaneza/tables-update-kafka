{
 "cells": [
  {
   "cell_type": "code",
   "execution_count": null,
   "metadata": {},
   "outputs": [],
   "source": [
    "import json\n",
    "\n",
    "def process_message(msg):\n",
    "    # Convert message to JSON\n",
    "    message_json = {\n",
    "        \"key\": msg.key(),\n",
    "        \"value\": msg.value(),\n",
    "        \"topic\": msg.topic(),\n",
    "        \"partition\": msg.partition(),\n",
    "        \"offset\": msg.offset()\n",
    "    }\n",
    "\n",
    "    # Extract additional fields\n",
    "    processing_time = msg.value().get('processingTime', None)\n",
    "    entity_name = msg.value().get('entityName', None)\n",
    "    entity_id = msg.value().get('entityId', None)\n",
    "\n",
    "    # Prepare Json data\n",
    "    json_data = json.dumps(message_json, default=str)\n",
    "\n",
    "    return json_data, processing_time, entity_name, entity_id"
   ]
  }
 ],
 "metadata": {
  "language_info": {
   "name": "python"
  }
 },
 "nbformat": 4,
 "nbformat_minor": 2
}
