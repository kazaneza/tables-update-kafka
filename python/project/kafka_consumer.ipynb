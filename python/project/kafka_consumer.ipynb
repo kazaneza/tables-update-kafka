{
 "cells": [
  {
   "cell_type": "code",
   "execution_count": null,
   "metadata": {},
   "outputs": [],
   "source": [
    "from confluent_kafka import DeserializingConsumer\n",
    "from confluent_kafka.serialization import StringDeserializer\n",
    "from confluent_kafka.schema_registry import SchemaRegistryClient\n",
    "from confluent_kafka.schema_registry.avro import AvroDeserializer\n",
    "\n",
    "def setup_kafka_consumer():\n",
    "    schema_registry_conf = {'url': 'http://10.24.36.25:35003'}\n",
    "    schema_registry_client = SchemaRegistryClient(schema_registry_conf)\n",
    "\n",
    "    value_deserializer = AvroDeserializer(schema_registry_client=schema_registry_client)\n",
    "\n",
    "    consumer_config = {\n",
    "        'bootstrap.servers': '10.24.36.25:35002',\n",
    "        'group.id': 'test03/01/2024',\n",
    "        'auto.offset.reset': 'earliest',\n",
    "        'key.deserializer': StringDeserializer('utf_8'),\n",
    "        'value.deserializer': value_deserializer\n",
    "    }\n",
    "\n",
    "    consumer = DeserializingConsumer(consumer_config)\n",
    "    consumer.subscribe(['table-update'])\n",
    "    return consumer\n",
    "\n",
    "def poll_message(consumer):\n",
    "    return consumer.poll(1.0)"
   ]
  }
 ],
 "metadata": {
  "language_info": {
   "name": "python"
  }
 },
 "nbformat": 4,
 "nbformat_minor": 2
}
