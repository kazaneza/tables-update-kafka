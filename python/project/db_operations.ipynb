{
 "cells": [
  {
   "cell_type": "code",
   "execution_count": null,
   "metadata": {},
   "outputs": [],
   "source": [
    "import pyodbc\n",
    "\n",
    "def get_db_connection():\n",
    "    conn_str = (\n",
    "        \"Driver={SQL Server};\"\n",
    "        \"Server=ACADEMY06;\"\n",
    "        \"Database=KafkaMessageJson;\"\n",
    "        \"Trusted_Connection=yes;\"\n",
    "        \"Auto_Commit=true;\"\n",
    "    )\n",
    "    return pyodbc.connect(conn_str)\n",
    "\n",
    "def execute_insert_query(cursor, query, json_data, processing_time, entity_name, entity_id):\n",
    "    cursor.execute(query, json_data, processing_time, entity_name, entity_id)\n",
    "    "
   ]
  }
 ],
 "metadata": {
  "language_info": {
   "name": "python"
  }
 },
 "nbformat": 4,
 "nbformat_minor": 2
}
