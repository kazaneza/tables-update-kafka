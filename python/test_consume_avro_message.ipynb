{
 "cells": [
  {
   "cell_type": "code",
   "execution_count": null,
   "metadata": {},
   "outputs": [],
   "source": [
    "from confluent_kafka import DeserializingConsumer\n",
    "from confluent_kafka.serialization import StringDeserializer, SerializationContext, MessageField\n",
    "from confluent_kafka.schema_registry import SchemaRegistryClient\n",
    "from confluent_kafka.schema_registry.avro import AvroDeserializer\n",
    "\n",
    "def main():\n",
    "    schema_registry_conf = {'url': 'http://10.24.36.25:35003'}\n",
    "    schema_registry_client = SchemaRegistryClient(schema_registry_conf)\n",
    "\n",
    "    value_deserializer = AvroDeserializer(schema_registry_client=schema_registry_client)\n",
    "\n",
    "    consumer_config = {\n",
    "        'bootstrap.servers': '10.24.36.25:35002',\n",
    "        'group.id': 'table-update',\n",
    "        'auto.offset.reset': 'earliest',\n",
    "        'key.deserializer': StringDeserializer('utf_8'),\n",
    "        'value.deserializer': value_deserializer\n",
    "    }\n",
    "\n",
    "    consumer = DeserializingConsumer(consumer_config)\n",
    "    consumer.subscribe(['table-update'])\n",
    "\n",
    "    try:\n",
    "        while True:\n",
    "            msg = consumer.poll(1.0)\n",
    "            if msg is None:\n",
    "                continue\n",
    "            if msg.error():\n",
    "                print(\"Consumer error: {}\".format(msg.error()))\n",
    "                continue\n",
    "\n",
    "            print(f\"Consumed record with key {msg.key()} and value {msg.value()}\")\n",
    "    except KeyboardInterrupt:\n",
    "        pass\n",
    "    finally:\n",
    "        consumer.close()\n",
    "\n",
    "if __name__ == '__main__':\n",
    "    main()\n"
   ]
  }
 ],
 "metadata": {
  "language_info": {
   "name": "python"
  }
 },
 "nbformat": 4,
 "nbformat_minor": 2
}
